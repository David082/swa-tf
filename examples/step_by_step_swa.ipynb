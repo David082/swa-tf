{
 "cells": [
  {
   "cell_type": "code",
   "execution_count": 1,
   "metadata": {},
   "outputs": [],
   "source": [
    "import numpy as np\n",
    "import tensorflow as tf\n",
    "import os\n",
    "from sklearn.utils import shuffle\n",
    "from sklearn.model_selection import train_test_split\n",
    "from pprint import pprint\n",
    "from math import ceil\n",
    "from time import time\n",
    "\n",
    "import matplotlib.pyplot as plt\n",
    "%matplotlib inline "
   ]
  },
  {
   "cell_type": "code",
   "execution_count": 2,
   "metadata": {},
   "outputs": [],
   "source": [
    "BATCH_SIZE = 16\n",
    "EPOCHS = 10\n",
    "EPOCHS_BEFORE_SWA = 5\n",
    "ALPHA1_LR = 0.1\n",
    "ALPHA2_LR = 0.001"
   ]
  },
  {
   "cell_type": "markdown",
   "metadata": {},
   "source": [
    "# Data Preparation\n",
    "\n",
    "- load `train` and `test` subsets (CIFAR-10)\n",
    "- split `train` into `train` + `valid` (80/20%, stratified split on labels)\n",
    "\n",
    "- create data generators (with `keras.preprocessing.image.ImageDataGenerator`):\n",
    "    - one ImageDataGenerator with data augmentation (horizontal flips, random translations) for train set\n",
    "    - three ImageDataGenerator without data augmentation for train, valid and test subset \n",
    "        - why `train` ? : to fit Batch Norm statistics without augmentation "
   ]
  },
  {
   "cell_type": "code",
   "execution_count": 3,
   "metadata": {},
   "outputs": [
    {
     "name": "stdout",
     "output_type": "stream",
     "text": [
      "... loading CIFAR10 dataset ...\n",
      "\tTRAIN - images (40000, 32, 32, 3) | float32  - labels (40000,) - int32\n",
      "\tVAL - images (10000, 32, 32, 3) | float32  - labels (10000,) - int32\n",
      "\tTEST - images (10000, 32, 32, 3) | float32  - labels (10000,) - int32\n",
      "\n"
     ]
    }
   ],
   "source": [
    "print(\"... loading CIFAR10 dataset ...\")\n",
    "(x_train, y_train), (x_test, y_test) = tf.keras.datasets.cifar10.load_data()\n",
    "y_train = np.squeeze(y_train)\n",
    "y_test = np.squeeze(y_test)\n",
    "\n",
    "x_train, y_train = shuffle(x_train, y_train)\n",
    "x_train, x_val, y_train, y_val = train_test_split(x_train, y_train,\n",
    "                                                  test_size=0.2,\n",
    "                                                  stratify=y_train,\n",
    "                                                  random_state=51)\n",
    "# cast samples and labels\n",
    "x_train = x_train.astype(np.float32) / 255.\n",
    "x_val = x_val.astype(np.float32) / 255.\n",
    "x_test = x_test.astype(np.float32) / 255.\n",
    "y_train = y_train.astype(np.int32)\n",
    "y_val = y_val.astype(np.int32)\n",
    "y_test = y_test.astype(np.int32)\n",
    "\n",
    "print(\"\\tTRAIN - images {} | {}  - labels {} - {}\".format(x_train.shape, x_train.dtype, y_train.shape, y_train.dtype))\n",
    "print(\"\\tVAL - images {} | {}  - labels {} - {}\".format(x_val.shape, x_val.dtype, y_val.shape, y_val.dtype))\n",
    "print(\"\\tTEST - images {} | {}  - labels {} - {}\\n\".format(x_test.shape, x_test.dtype, y_test.shape, y_test.dtype))"
   ]
  },
  {
   "cell_type": "code",
   "execution_count": 4,
   "metadata": {},
   "outputs": [],
   "source": [
    "generator_aug = tf.keras.preprocessing.image.ImageDataGenerator(width_shift_range=8, height_shift_range=8,\n",
    "                                                                fill_mode='constant', cval=0.0,\n",
    "                                                                horizontal_flip=True)\n",
    "\n",
    "generator = tf.keras.preprocessing.image.ImageDataGenerator()\n",
    "\n",
    "# python iterator object that yields augmented samples \n",
    "iterator_train_aug = generator_aug.flow(x_train, y_train, batch_size=BATCH_SIZE)\n",
    "\n",
    "# python iterators object that yields not augmented samples \n",
    "iterator_train = generator.flow(x_train, y_train, batch_size=BATCH_SIZE)\n",
    "iterator_valid = generator.flow(x_val, y_val, batch_size=BATCH_SIZE)\n",
    "iterator_test = generator.flow(x_test, y_test, batch_size=BATCH_SIZE)"
   ]
  },
  {
   "cell_type": "code",
   "execution_count": 5,
   "metadata": {},
   "outputs": [
    {
     "name": "stdout",
     "output_type": "stream",
     "text": [
      "x : (16, 32, 32, 3) | float32\n",
      "y : (16,) | int32\n"
     ]
    },
    {
     "data": {
      "text/plain": [
       "<matplotlib.image.AxesImage at 0x7f994b52ae10>"
      ]
     },
     "execution_count": 5,
     "metadata": {},
     "output_type": "execute_result"
    },
    {
     "data": {
      "image/png": "[encoded data removed]",
      "text/plain": [
       "<Figure size 432x432 with 1 Axes>"
      ]
     },
     "metadata": {
      "needs_background": "light"
     },
     "output_type": "display_data"
    }
   ],
   "source": [
    "# test \n",
    "x, y = iterator_train_aug.next()\n",
    "img = x[0]*255\n",
    "print(\"x : {} | {}\".format(x.shape, x.dtype))\n",
    "print(\"y : {} | {}\".format(y.shape, y.dtype))\n",
    "\n",
    "plt.figure(figsize=(6,6))\n",
    "plt.imshow(img.astype(np.uint8))"
   ]
  },
  {
   "cell_type": "markdown",
   "metadata": {},
   "source": [
    "# Build a network with MovingFreeBatchNorm"
   ]
  },
  {
   "cell_type": "code",
   "execution_count": 6,
   "metadata": {},
   "outputs": [],
   "source": [
    "from moving_free_batch_normalization import moving_free_batch_norm\n",
    "from stochastic_weight_averaging import StochasticWeightAveraging"
   ]
  },
  {
   "cell_type": "code",
   "execution_count": 7,
   "metadata": {},
   "outputs": [],
   "source": [
    "config = tf.ConfigProto()\n",
    "config.allow_soft_placement = True\n",
    "config.gpu_options.allow_growth = True\n",
    "sess = tf.Session(config=config)"
   ]
  },
  {
   "cell_type": "code",
   "execution_count": 8,
   "metadata": {},
   "outputs": [],
   "source": [
    "with tf.name_scope('inputs'):\n",
    "    batch_x = tf.placeholder(shape=[None, 32, 32, 3], dtype=tf.float32)\n",
    "    batch_y = tf.placeholder(shape=[None, ], dtype=tf.int64)\n",
    "    is_training_bn = tf.placeholder(shape=[], dtype=tf.bool)\n",
    "    use_moving_statistics = tf.placeholder(shape=[], dtype=tf.bool)\n",
    "    learning_rate = tf.placeholder(shape=[], dtype=tf.float32)"
   ]
  },
  {
   "cell_type": "code",
   "execution_count": 9,
   "metadata": {},
   "outputs": [],
   "source": [
    "# network similar to a VGG11 \n",
    "\n",
    "with tf.name_scope('network'):\n",
    "    x = tf.layers.conv2d(batch_x, filters=64, kernel_size=3, strides=1, use_bias=True,\n",
    "                         activation=tf.nn.relu, data_format='channels_last', padding='same')\n",
    "    x = moving_free_batch_norm(x, axis=-1, training=is_training_bn,\n",
    "                               use_moving_statistics=use_moving_statistics, momentum=0.99)\n",
    "    x = tf.layers.max_pooling2d(x, pool_size=2, strides=2, data_format='channels_last', padding='same')\n",
    "    \n",
    "    x = tf.layers.conv2d(x, filters=128, kernel_size=3, strides=1, use_bias=True,\n",
    "                         activation=tf.nn.relu, data_format='channels_last', padding='same')\n",
    "    x = moving_free_batch_norm(x, axis=-1, training=is_training_bn,\n",
    "                               use_moving_statistics=use_moving_statistics, momentum=0.99)\n",
    "\n",
    "    x = tf.layers.max_pooling2d(x, pool_size=2, strides=2, data_format='channels_last', padding='same')\n",
    "    \n",
    "    \n",
    "    x = tf.layers.conv2d(x, filters=256, kernel_size=3, strides=1, use_bias=True,\n",
    "                         activation=tf.nn.relu, data_format='channels_last', padding='same')\n",
    "    x = moving_free_batch_norm(x, axis=-1, training=is_training_bn, use_moving_statistics=use_moving_statistics, momentum=0.99)\n",
    "    x = tf.layers.conv2d(x, filters=256, kernel_size=3, strides=1, use_bias=True,\n",
    "                         activation=tf.nn.relu, data_format='channels_last', padding='same')\n",
    "    x = moving_free_batch_norm(x, axis=-1, training=is_training_bn,\n",
    "                               use_moving_statistics=use_moving_statistics, momentum=0.99)\n",
    "    x = tf.layers.max_pooling2d(x, pool_size=2, strides=2, data_format='channels_last', padding='same')\n",
    "    \n",
    "    \n",
    "    x = tf.layers.conv2d(x, filters=512, kernel_size=3, strides=1, use_bias=True,\n",
    "                         activation=tf.nn.relu, data_format='channels_last', padding='same')\n",
    "    x = moving_free_batch_norm(x, axis=-1, training=is_training_bn, use_moving_statistics=use_moving_statistics, momentum=0.99)\n",
    "    x = tf.layers.conv2d(x, filters=512, kernel_size=3, strides=1, use_bias=True,\n",
    "                         activation=tf.nn.relu, data_format='channels_last', padding='same')\n",
    "    x = moving_free_batch_norm(x, axis=-1, training=is_training_bn,\n",
    "                               use_moving_statistics=use_moving_statistics, momentum=0.99)\n",
    "    x = tf.layers.max_pooling2d(x, pool_size=2, strides=2, data_format='channels_last', padding='same')\n",
    "    \n",
    "    \n",
    "    x = tf.layers.conv2d(x, filters=512, kernel_size=3, strides=1, use_bias=True,\n",
    "                         activation=tf.nn.relu, data_format='channels_last', padding='same')\n",
    "    x = moving_free_batch_norm(x, axis=-1, training=is_training_bn, use_moving_statistics=use_moving_statistics, momentum=0.99)\n",
    "    x = tf.layers.conv2d(x, filters=512, kernel_size=3, strides=1, use_bias=True,\n",
    "                         activation=tf.nn.relu, data_format='channels_last', padding='same')\n",
    "    x = moving_free_batch_norm(x, axis=-1, training=is_training_bn,\n",
    "                               use_moving_statistics=use_moving_statistics, momentum=0.99)\n",
    "    \n",
    "    # Global Average Pooling\n",
    "    x = tf.reduce_mean(x, axis=[1, 2]) \n",
    "    logits = tf.layers.dense(x, units=10, use_bias=True)"
   ]
  },
  {
   "cell_type": "code",
   "execution_count": 10,
   "metadata": {},
   "outputs": [
    {
     "name": "stdout",
     "output_type": "stream",
     "text": [
      "[<tf.Variable 'conv2d/kernel:0' shape=(3, 3, 3, 64) dtype=float32_ref>,\n",
      " <tf.Variable 'conv2d/bias:0' shape=(64,) dtype=float32_ref>,\n",
      " <tf.Variable 'moving_free_batch_normalization/gamma:0' shape=(64,) dtype=float32_ref>,\n",
      " <tf.Variable 'moving_free_batch_normalization/beta:0' shape=(64,) dtype=float32_ref>,\n",
      " <tf.Variable 'conv2d_1/kernel:0' shape=(3, 3, 64, 128) dtype=float32_ref>,\n",
      " <tf.Variable 'conv2d_1/bias:0' shape=(128,) dtype=float32_ref>,\n",
      " <tf.Variable 'moving_free_batch_normalization_1/gamma:0' shape=(128,) dtype=float32_ref>,\n",
      " <tf.Variable 'moving_free_batch_normalization_1/beta:0' shape=(128,) dtype=float32_ref>,\n",
      " <tf.Variable 'conv2d_2/kernel:0' shape=(3, 3, 128, 256) dtype=float32_ref>,\n",
      " <tf.Variable 'conv2d_2/bias:0' shape=(256,) dtype=float32_ref>,\n",
      " <tf.Variable 'moving_free_batch_normalization_2/gamma:0' shape=(256,) dtype=float32_ref>,\n",
      " <tf.Variable 'moving_free_batch_normalization_2/beta:0' shape=(256,) dtype=float32_ref>,\n",
      " <tf.Variable 'conv2d_3/kernel:0' shape=(3, 3, 256, 256) dtype=float32_ref>,\n",
      " <tf.Variable 'conv2d_3/bias:0' shape=(256,) dtype=float32_ref>,\n",
      " <tf.Variable 'moving_free_batch_normalization_3/gamma:0' shape=(256,) dtype=float32_ref>,\n",
      " <tf.Variable 'moving_free_batch_normalization_3/beta:0' shape=(256,) dtype=float32_ref>,\n",
      " <tf.Variable 'conv2d_4/kernel:0' shape=(3, 3, 256, 512) dtype=float32_ref>,\n",
      " <tf.Variable 'conv2d_4/bias:0' shape=(512,) dtype=float32_ref>,\n",
      " <tf.Variable 'moving_free_batch_normalization_4/gamma:0' shape=(512,) dtype=float32_ref>,\n",
      " <tf.Variable 'moving_free_batch_normalization_4/beta:0' shape=(512,) dtype=float32_ref>,\n",
      " <tf.Variable 'conv2d_5/kernel:0' shape=(3, 3, 512, 512) dtype=float32_ref>,\n",
      " <tf.Variable 'conv2d_5/bias:0' shape=(512,) dtype=float32_ref>,\n",
      " <tf.Variable 'moving_free_batch_normalization_5/gamma:0' shape=(512,) dtype=float32_ref>,\n",
      " <tf.Variable 'moving_free_batch_normalization_5/beta:0' shape=(512,) dtype=float32_ref>,\n",
      " <tf.Variable 'conv2d_6/kernel:0' shape=(3, 3, 512, 512) dtype=float32_ref>,\n",
      " <tf.Variable 'conv2d_6/bias:0' shape=(512,) dtype=float32_ref>,\n",
      " <tf.Variable 'moving_free_batch_normalization_6/gamma:0' shape=(512,) dtype=float32_ref>,\n",
      " <tf.Variable 'moving_free_batch_normalization_6/beta:0' shape=(512,) dtype=float32_ref>,\n",
      " <tf.Variable 'conv2d_7/kernel:0' shape=(3, 3, 512, 512) dtype=float32_ref>,\n",
      " <tf.Variable 'conv2d_7/bias:0' shape=(512,) dtype=float32_ref>,\n",
      " <tf.Variable 'moving_free_batch_normalization_7/gamma:0' shape=(512,) dtype=float32_ref>,\n",
      " <tf.Variable 'moving_free_batch_normalization_7/beta:0' shape=(512,) dtype=float32_ref>,\n",
      " <tf.Variable 'dense/kernel:0' shape=(512, 10) dtype=float32_ref>,\n",
      " <tf.Variable 'dense/bias:0' shape=(10,) dtype=float32_ref>]\n"
     ]
    }
   ],
   "source": [
    "model_vars = tf.trainable_variables()\n",
    "pprint(model_vars)"
   ]
  },
  {
   "cell_type": "code",
   "execution_count": 11,
   "metadata": {},
   "outputs": [
    {
     "name": "stdout",
     "output_type": "stream",
     "text": [
      "[<tf.Operation 'network/moving_free_batch_normalization/AssignMovingAvg' type=AssignSub>,\n",
      " <tf.Operation 'network/moving_free_batch_normalization/AssignMovingAvg_1' type=AssignSub>,\n",
      " <tf.Operation 'network/moving_free_batch_normalization_1/AssignMovingAvg' type=AssignSub>,\n",
      " <tf.Operation 'network/moving_free_batch_normalization_1/AssignMovingAvg_1' type=AssignSub>,\n",
      " <tf.Operation 'network/moving_free_batch_normalization_2/AssignMovingAvg' type=AssignSub>,\n",
      " <tf.Operation 'network/moving_free_batch_normalization_2/AssignMovingAvg_1' type=AssignSub>,\n",
      " <tf.Operation 'network/moving_free_batch_normalization_3/AssignMovingAvg' type=AssignSub>,\n",
      " <tf.Operation 'network/moving_free_batch_normalization_3/AssignMovingAvg_1' type=AssignSub>,\n",
      " <tf.Operation 'network/moving_free_batch_normalization_4/AssignMovingAvg' type=AssignSub>,\n",
      " <tf.Operation 'network/moving_free_batch_normalization_4/AssignMovingAvg_1' type=AssignSub>,\n",
      " <tf.Operation 'network/moving_free_batch_normalization_5/AssignMovingAvg' type=AssignSub>,\n",
      " <tf.Operation 'network/moving_free_batch_normalization_5/AssignMovingAvg_1' type=AssignSub>,\n",
      " <tf.Operation 'network/moving_free_batch_normalization_6/AssignMovingAvg' type=AssignSub>,\n",
      " <tf.Operation 'network/moving_free_batch_normalization_6/AssignMovingAvg_1' type=AssignSub>,\n",
      " <tf.Operation 'network/moving_free_batch_normalization_7/AssignMovingAvg' type=AssignSub>,\n",
      " <tf.Operation 'network/moving_free_batch_normalization_7/AssignMovingAvg_1' type=AssignSub>]\n",
      "[<tf.Tensor 'network/moving_free_batch_normalization/AssignAdd:0' shape=() dtype=float32_ref>,\n",
      " <tf.Tensor 'network/moving_free_batch_normalization_1/AssignAdd:0' shape=() dtype=float32_ref>,\n",
      " <tf.Tensor 'network/moving_free_batch_normalization_2/AssignAdd:0' shape=() dtype=float32_ref>,\n",
      " <tf.Tensor 'network/moving_free_batch_normalization_3/AssignAdd:0' shape=() dtype=float32_ref>,\n",
      " <tf.Tensor 'network/moving_free_batch_normalization_4/AssignAdd:0' shape=() dtype=float32_ref>,\n",
      " <tf.Tensor 'network/moving_free_batch_normalization_5/AssignAdd:0' shape=() dtype=float32_ref>,\n",
      " <tf.Tensor 'network/moving_free_batch_normalization_6/AssignAdd:0' shape=() dtype=float32_ref>,\n",
      " <tf.Tensor 'network/moving_free_batch_normalization_7/AssignAdd:0' shape=() dtype=float32_ref>]\n",
      "[<tf.Tensor 'network/moving_free_batch_normalization/Assign:0' shape=(64,) dtype=float32_ref>,\n",
      " <tf.Tensor 'network/moving_free_batch_normalization/Assign_1:0' shape=(64,) dtype=float32_ref>,\n",
      " <tf.Tensor 'network/moving_free_batch_normalization/Assign_2:0' shape=() dtype=float32_ref>,\n",
      " <tf.Tensor 'network/moving_free_batch_normalization_1/Assign:0' shape=(128,) dtype=float32_ref>,\n",
      " <tf.Tensor 'network/moving_free_batch_normalization_1/Assign_1:0' shape=(128,) dtype=float32_ref>,\n",
      " <tf.Tensor 'network/moving_free_batch_normalization_1/Assign_2:0' shape=() dtype=float32_ref>,\n",
      " <tf.Tensor 'network/moving_free_batch_normalization_2/Assign:0' shape=(256,) dtype=float32_ref>,\n",
      " <tf.Tensor 'network/moving_free_batch_normalization_2/Assign_1:0' shape=(256,) dtype=float32_ref>,\n",
      " <tf.Tensor 'network/moving_free_batch_normalization_2/Assign_2:0' shape=() dtype=float32_ref>,\n",
      " <tf.Tensor 'network/moving_free_batch_normalization_3/Assign:0' shape=(256,) dtype=float32_ref>,\n",
      " <tf.Tensor 'network/moving_free_batch_normalization_3/Assign_1:0' shape=(256,) dtype=float32_ref>,\n",
      " <tf.Tensor 'network/moving_free_batch_normalization_3/Assign_2:0' shape=() dtype=float32_ref>,\n",
      " <tf.Tensor 'network/moving_free_batch_normalization_4/Assign:0' shape=(512,) dtype=float32_ref>,\n",
      " <tf.Tensor 'network/moving_free_batch_normalization_4/Assign_1:0' shape=(512,) dtype=float32_ref>,\n",
      " <tf.Tensor 'network/moving_free_batch_normalization_4/Assign_2:0' shape=() dtype=float32_ref>,\n",
      " <tf.Tensor 'network/moving_free_batch_normalization_5/Assign:0' shape=(512,) dtype=float32_ref>,\n",
      " <tf.Tensor 'network/moving_free_batch_normalization_5/Assign_1:0' shape=(512,) dtype=float32_ref>,\n",
      " <tf.Tensor 'network/moving_free_batch_normalization_5/Assign_2:0' shape=() dtype=float32_ref>,\n",
      " <tf.Tensor 'network/moving_free_batch_normalization_6/Assign:0' shape=(512,) dtype=float32_ref>,\n",
      " <tf.Tensor 'network/moving_free_batch_normalization_6/Assign_1:0' shape=(512,) dtype=float32_ref>,\n",
      " <tf.Tensor 'network/moving_free_batch_normalization_6/Assign_2:0' shape=() dtype=float32_ref>,\n",
      " <tf.Tensor 'network/moving_free_batch_normalization_7/Assign:0' shape=(512,) dtype=float32_ref>,\n",
      " <tf.Tensor 'network/moving_free_batch_normalization_7/Assign_1:0' shape=(512,) dtype=float32_ref>,\n",
      " <tf.Tensor 'network/moving_free_batch_normalization_7/Assign_2:0' shape=() dtype=float32_ref>]\n"
     ]
    }
   ],
   "source": [
    "# operations to update moving averages in batch norm layers\n",
    "# to run before updating weights ! (with tf.control_dependencies())\n",
    "update_ops = tf.get_collection(tf.GraphKeys.UPDATE_OPS)\n",
    "\n",
    "# operations to updates (mean, variance, n) in batch norm layers \n",
    "update_bn_ops = tf.get_collection('UPDATE_BN_OPS')\n",
    "\n",
    "# operations to reset (mean, variance, n) to zero \n",
    "reset_bn_ops = tf.get_collection('RESET_BN_OPS')\n",
    "\n",
    "pprint(update_ops)\n",
    "pprint(update_bn_ops)\n",
    "pprint(reset_bn_ops)\n",
    "\n",
    "# group these operations\n",
    "update_ops = tf.group(*update_ops)\n",
    "update_bn_ops = tf.group(*update_bn_ops)\n",
    "reset_bn_ops = tf.group(*reset_bn_ops)"
   ]
  },
  {
   "cell_type": "code",
   "execution_count": 12,
   "metadata": {},
   "outputs": [],
   "source": [
    "with tf.name_scope('loss'):\n",
    "    loss_tf = tf.reduce_mean(tf.nn.sparse_softmax_cross_entropy_with_logits(logits=logits, labels=batch_y))\n",
    "    acc_tf = tf.reduce_mean(tf.cast(tf.equal(batch_y, tf.argmax(logits, axis=1)), dtype=tf.float32))"
   ]
  },
  {
   "cell_type": "code",
   "execution_count": 13,
   "metadata": {},
   "outputs": [],
   "source": [
    "with tf.name_scope('optimizer'):\n",
    "    opt = tf.train.MomentumOptimizer(learning_rate=learning_rate, momentum=0.9)\n",
    "    with tf.control_dependencies([update_ops,]):\n",
    "        train_op = opt.minimize(loss_tf, var_list=model_vars)"
   ]
  },
  {
   "cell_type": "code",
   "execution_count": 14,
   "metadata": {},
   "outputs": [],
   "source": [
    "with tf.name_scope('SWA'):\n",
    "    swa = StochasticWeightAveraging()\n",
    "    swa_op = swa.apply(var_list=model_vars)\n",
    "    # Make backup variables\n",
    "    with tf.variable_scope('BackupVariables'):\n",
    "        backup_vars = [tf.get_variable(var.op.name, dtype=var.value().dtype, trainable=False,\n",
    "                                       initializer=var.initialized_value())\n",
    "                       for var in model_vars]\n",
    "    # operation to assign SWA weights to model\n",
    "    swa_to_weights = tf.group(*(tf.assign(var, swa.average(var).read_value()) for var in model_vars))\n",
    "    # operation to store model into backup variables\n",
    "    save_weight_backups = tf.group(*(tf.assign(bck, var.read_value()) for var, bck in zip(model_vars, backup_vars)))\n",
    "    # operation to get back values from backup variables to model\n",
    "    restore_weight_backups = tf.group(*(tf.assign(var, bck.read_value()) for var, bck in zip(model_vars, backup_vars)))"
   ]
  },
  {
   "cell_type": "code",
   "execution_count": 15,
   "metadata": {},
   "outputs": [],
   "source": [
    "global_init_op = tf.global_variables_initializer()\n",
    "sess.run(global_init_op)"
   ]
  },
  {
   "cell_type": "markdown",
   "metadata": {},
   "source": [
    "## Set Learning rate policy "
   ]
  },
  {
   "cell_type": "code",
   "execution_count": 16,
   "metadata": {},
   "outputs": [],
   "source": [
    "def get_learning_rate(step, epoch, steps_per_epoch):\n",
    "    if epoch < EPOCHS_BEFORE_SWA:\n",
    "        return ALPHA1_LR\n",
    "\n",
    "    if step > int(0.9 * EPOCHS * steps_per_epoch):\n",
    "        return ALPHA2_LR\n",
    "\n",
    "    length_slope = int(0.9 * EPOCHS * steps_per_epoch) - EPOCHS_BEFORE_SWA * steps_per_epoch\n",
    "    re\n",
    "    return ALPHA1_LR - ((ALPHA1_LR - ALPHA2_LR) / length_slope) * (step - EPOCHS_BEFORE_SWA * steps_per_epoch)"
   ]
  },
  {
   "cell_type": "code",
   "execution_count": 17,
   "metadata": {},
   "outputs": [
    {
     "data": {
      "text/plain": [
       "[<matplotlib.lines.Line2D at 0x7f98cd3ca7f0>]"
      ]
     },
     "execution_count": 17,
     "metadata": {},
     "output_type": "execute_result"
    },
    {
     "data": {
      "image/png": "[encoded data removed]",
      "text/plain": [
       "<Figure size 1152x288 with 1 Axes>"
      ]
     },
     "metadata": {
      "needs_background": "light"
     },
     "output_type": "display_data"
    }
   ],
   "source": [
    "steps_per_epoch_train = iterator_train.n//BATCH_SIZE\n",
    "\n",
    "all_steps = []\n",
    "all_lr = []\n",
    "\n",
    "step = 0\n",
    "for epoch in range(EPOCHS):\n",
    "    for _ in range(steps_per_epoch_train):\n",
    "        all_steps.append(step)\n",
    "        all_lr.append(get_learning_rate(step, epoch, steps_per_epoch_train))\n",
    "        step += 1 \n",
    "\n",
    "plt.figure(figsize=(16,4))\n",
    "plt.plot(all_steps, all_lr)"
   ]
  },
  {
   "cell_type": "markdown",
   "metadata": {},
   "source": [
    "## Launch traninig \n",
    "- create a function to fit statistics with train subset\n",
    "- create a function to run inference on [train/]val/test subsets (with/without moving statistics\n",
    "- create a function to run inference with SWA weights"
   ]
  },
  {
   "cell_type": "code",
   "execution_count": 18,
   "metadata": {},
   "outputs": [],
   "source": [
    "steps_per_epoch_train = int(ceil(iterator_train.n/BATCH_SIZE))\n",
    "steps_per_epoch_val = int(ceil(iterator_valid.n/BATCH_SIZE))\n",
    "steps_per_epoch_test = int(ceil(iterator_test.n/BATCH_SIZE))"
   ]
  },
  {
   "cell_type": "code",
   "execution_count": 19,
   "metadata": {},
   "outputs": [],
   "source": [
    "def fit_bn_statistics():\n",
    "    sess.run(reset_bn_ops)\n",
    "    \n",
    "    feed_dict = {is_training_bn: True, use_moving_statistics: True}\n",
    "    for _ in range(steps_per_epoch_train):\n",
    "        x, y = iterator_train.next()\n",
    "        feed_dict[batch_x] = x\n",
    "        sess.run(update_bn_ops, feed_dict=feed_dict)"
   ]
  },
  {
   "cell_type": "code",
   "execution_count": 20,
   "metadata": {},
   "outputs": [],
   "source": [
    "def inference(iterator, with_moving_statistics=True):\n",
    "    feed_dict = {is_training_bn: False,\n",
    "                 use_moving_statistics: with_moving_statistics}\n",
    "    all_acc = []\n",
    "    all_loss = []\n",
    "    nb_steps = int(ceil(iterator.n/BATCH_SIZE))\n",
    "    \n",
    "    for _ in range(nb_steps):\n",
    "        x, y = iterator.next()\n",
    "        feed_dict[batch_x] = x\n",
    "        feed_dict[batch_y] = y\n",
    "        acc_v, loss_v = sess.run([acc_tf, loss_tf], feed_dict=feed_dict)\n",
    "        all_acc.append(acc_v)\n",
    "        all_loss.append(loss_v)\n",
    "    \n",
    "    return np.mean(all_acc), np.mean(all_loss)"
   ]
  },
  {
   "cell_type": "code",
   "execution_count": 21,
   "metadata": {},
   "outputs": [
    {
     "name": "stdout",
     "output_type": "stream",
     "text": [
      "Random model : acc=0.10000   loss=2.30249\n",
      "CPU times: user 21.8 s, sys: 8.88 s, total: 30.7 s\n",
      "Wall time: 29 s\n"
     ]
    }
   ],
   "source": [
    "%%time\n",
    "# test your random model ? \n",
    "acc, loss = inference(iterator_valid, with_moving_statistics=True)\n",
    "print(\"Random model : acc={:.5f}   loss={:.5f}\".format(acc, loss))"
   ]
  },
  {
   "cell_type": "code",
   "execution_count": 22,
   "metadata": {},
   "outputs": [
    {
     "name": "stdout",
     "output_type": "stream",
     "text": [
      "Random model : acc=0.09480   loss=2.53269\n",
      "CPU times: user 1min 39s, sys: 38.3 s, total: 2min 18s\n",
      "Wall time: 2min 14s\n"
     ]
    }
   ],
   "source": [
    "%%time \n",
    "# now fit batch norm statistics and make inference again \n",
    "fit_bn_statistics()\n",
    "acc, loss = inference(iterator_valid, with_moving_statistics=False)\n",
    "print(\"Random model : acc={:.5f}   loss={:.5f}\".format(acc, loss))"
   ]
  },
  {
   "cell_type": "code",
   "execution_count": 23,
   "metadata": {},
   "outputs": [],
   "source": [
    "feed_dict_train = {is_training_bn: True, \n",
    "                   use_moving_statistics:True,}"
   ]
  },
  {
   "cell_type": "code",
   "execution_count": null,
   "metadata": {},
   "outputs": [
    {
     "name": "stdout",
     "output_type": "stream",
     "text": [
      "TRAIN @ EPOCH 0 : acc=0.33632  loss=1.80784  in 555.822 s\n",
      "VALID @ EPOCH 0 : acc=0.32030   loss=2.26033  in 585.007 s\n",
      "VALID updated bn @ EPOCH 0 : acc=0.43340   loss=1.51867  in 734.108 s\n",
      "TRAIN @ EPOCH 1 : acc=0.49085  loss=1.41674  in 1245.526 s\n",
      "VALID @ EPOCH 1 : acc=0.52660   loss=1.38642  in 1274.491 s\n",
      "VALID updated bn @ EPOCH 1 : acc=0.55820   loss=1.22307  in 1426.498 s\n",
      "TRAIN @ EPOCH 2 : acc=0.57248  loss=1.20919  in 1924.985 s\n",
      "VALID @ EPOCH 2 : acc=0.42920   loss=1.87827  in 1950.423 s\n",
      "VALID updated bn @ EPOCH 2 : acc=0.62640   loss=1.07354  in 2082.893 s\n",
      "TRAIN @ EPOCH 3 : acc=0.62680  loss=1.07984  in 2599.358 s\n",
      "VALID @ EPOCH 3 : acc=0.56520   loss=1.39566  in 2627.226 s\n",
      "VALID updated bn @ EPOCH 3 : acc=0.65010   loss=1.01985  in 2783.791 s\n",
      "TRAIN @ EPOCH 4 : acc=0.66347  loss=0.97796  in 3320.516 s\n",
      "VALID @ EPOCH 4 : acc=0.64350   loss=1.03858  in 3349.541 s\n",
      "VALID updated bn @ EPOCH 4 : acc=0.68600   loss=0.90761  in 3498.834 s\n",
      "TRAIN @ EPOCH 5 : acc=0.70213  loss=0.87313  in 4008.384 s\n",
      "VALID @ EPOCH 5 : acc=0.74610   loss=0.73422  in 4034.948 s\n",
      "VALID updated bn @ EPOCH 5 : acc=0.73470   loss=0.76876  in 4178.613 s\n",
      "TRAIN @ EPOCH 6 : acc=0.74235  loss=0.75533  in 4689.395 s\n",
      "VALID @ EPOCH 6 : acc=0.59010   loss=1.41301  in 4717.241 s\n",
      "VALID updated bn @ EPOCH 6 : acc=0.74260   loss=0.75759  in 4870.484 s\n",
      "VALID with SWA @ EPOCH 6 : acc=0.76910   loss=0.67760  in 5019.735 s\n",
      "TRAIN @ EPOCH 7 : acc=0.77425  loss=0.66192  in 5509.414 s\n",
      "VALID @ EPOCH 7 : acc=0.79820   loss=0.58907  in 5535.178 s\n",
      "VALID updated bn @ EPOCH 7 : acc=0.79040   loss=0.61905  in 5668.677 s\n",
      "VALID with SWA @ EPOCH 7 : acc=0.78510   loss=0.63085  in 5808.475 s\n"
     ]
    }
   ],
   "source": [
    "step = 0\n",
    "start = time()\n",
    "\n",
    "acc_train = []\n",
    "loss_train = []\n",
    "\n",
    "acc_val = []\n",
    "loss_val = []\n",
    "\n",
    "acc_val_bn = []\n",
    "loss_val_bn = []\n",
    "\n",
    "acc_val_swa = []\n",
    "loss_val_swa = []\n",
    "\n",
    "for epoch in range(EPOCHS):\n",
    "    \n",
    "    acc = []\n",
    "    loss = []\n",
    "    for _ in range(steps_per_epoch_train):\n",
    "        \n",
    "        feed_dict_train[learning_rate] = get_learning_rate(step, epoch, steps_per_epoch_train)\n",
    "        x, y =  iterator_train_aug.next()\n",
    "        feed_dict_train[batch_x] = x\n",
    "        feed_dict_train[batch_y] = y\n",
    "        \n",
    "        acc_v, loss_v, _ = sess.run([acc_tf, loss_tf, train_op], feed_dict=feed_dict_train)\n",
    "        acc.append(acc_v)\n",
    "        loss.append(loss_v)\n",
    "        step += 1\n",
    "        \n",
    "    acc = np.mean(acc)\n",
    "    loss = np.mean(loss)\n",
    "    acc_train.append((epoch,acc))\n",
    "    loss_train.append((epoch,loss))\n",
    "    print(\"TRAIN @ EPOCH {} : acc={:.5f}  loss={:.5f}  in {:.3f} s\".format(epoch, acc, loss,\n",
    "                                                                               time()-start))\n",
    "    \n",
    "    acc, loss = inference(iterator_valid, with_moving_statistics=True)\n",
    "    acc_val.append((epoch,acc))\n",
    "    loss_val.append((epoch,loss))\n",
    "    print(\"VALID @ EPOCH {} : acc={:.5f}   loss={:.5f}  in {:.3f} s\".format(epoch, acc, loss,\n",
    "                                                                            time()-start))\n",
    "\n",
    "    # now fit batch norm statistics and make inference again \n",
    "    fit_bn_statistics()\n",
    "    acc, loss = inference(iterator_valid, with_moving_statistics=False)\n",
    "    acc_val_bn.append((epoch,acc))\n",
    "    loss_val_bn.append((epoch,loss))\n",
    "    print(\"VALID updated bn @ EPOCH {} : acc={:.5f}   loss={:.5f}  in {:.3f} s\".format(epoch, acc,\n",
    "                                                                                       loss, time()-start))\n",
    "    \n",
    "    if epoch >= EPOCHS_BEFORE_SWA:\n",
    "        sess.run(swa_op)\n",
    "        \n",
    "    if epoch > EPOCHS_BEFORE_SWA:\n",
    "        sess.run(save_weight_backups)\n",
    "        sess.run(swa_to_weights)\n",
    "        \n",
    "        fit_bn_statistics()\n",
    "        acc, loss = inference(iterator_valid, with_moving_statistics=False)\n",
    "        acc_val_swa.append((epoch,acc))\n",
    "        loss_val_swa.append((epoch,loss))\n",
    "        print(\"VALID with SWA @ EPOCH {} : acc={:.5f}   loss={:.5f}  in {:.3f} s\".format(epoch, acc,\n",
    "                                                                                         loss, time()-start))\n",
    "        \n",
    "        sess.run(restore_weight_backups)"
   ]
  },
  {
   "cell_type": "code",
   "execution_count": null,
   "metadata": {},
   "outputs": [],
   "source": []
  }
 ],
 "metadata": {
  "kernelspec": {
   "display_name": "Python 3",
   "language": "python",
   "name": "python3"
  },
  "language_info": {
   "codemirror_mode": {
    "name": "ipython",
    "version": 3
   },
   "file_extension": ".py",
   "mimetype": "text/x-python",
   "name": "python",
   "nbconvert_exporter": "python",
   "pygments_lexer": "ipython3",
   "version": "3.5.6"
  }
 },
 "nbformat": 4,
 "nbformat_minor": 2
}
