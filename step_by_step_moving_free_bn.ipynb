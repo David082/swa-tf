{
 "cells": [
  {
   "cell_type": "code",
   "execution_count": 1,
   "metadata": {},
   "outputs": [],
   "source": [
    "import numpy as np\n",
    "import tensorflow as tf\n",
    "import os\n",
    "from sklearn.utils import shuffle\n",
    "from sklearn.model_selection import train_test_split\n",
    "from pprint import pprint\n",
    "from math import ceil\n",
    "from time import time\n",
    "\n",
    "import matplotlib.pyplot as plt\n",
    "%matplotlib inline "
   ]
  },
  {
   "cell_type": "code",
   "execution_count": 2,
   "metadata": {},
   "outputs": [
    {
     "name": "stdout",
     "output_type": "stream",
     "text": [
      "1.11.0\n"
     ]
    }
   ],
   "source": [
    "print(tf.__version__)"
   ]
  },
  {
   "cell_type": "code",
   "execution_count": 3,
   "metadata": {},
   "outputs": [],
   "source": [
    "BATCH_SIZE = 16\n",
    "\n",
    "EPOCHS = 50\n",
    "INIT_LR = 0.01"
   ]
  },
  {
   "cell_type": "markdown",
   "metadata": {},
   "source": [
    "# Data Preparation\n",
    "\n",
    "- load `train` and `test` subsets (CIFAR-10)\n",
    "- split `train` into `train` + `valid` (80/20%, stratified split on labels)\n",
    "\n",
    "- create data generators (with `keras.preprocessing.image.ImageDataGenerator`):\n",
    "    - one ImageDataGenerator with data augmentation (horizontal flips, random translations) for train set\n",
    "    - three ImageDataGenerator without data augmentation for train, valid and test subset \n",
    "        - why `train` ? : to fit Batch Norm statistics without augmentation "
   ]
  },
  {
   "cell_type": "code",
   "execution_count": 4,
   "metadata": {},
   "outputs": [
    {
     "name": "stdout",
     "output_type": "stream",
     "text": [
      "... loading CIFAR10 dataset ...\n",
      "\tTRAIN - images (40000, 32, 32, 3) | float32  - labels (40000,) - int32\n",
      "\tVAL - images (10000, 32, 32, 3) | float32  - labels (10000,) - int32\n",
      "\tTEST - images (10000, 32, 32, 3) | float32  - labels (10000,) - int32\n",
      "\n"
     ]
    }
   ],
   "source": [
    "print(\"... loading CIFAR10 dataset ...\")\n",
    "(x_train, y_train), (x_test, y_test) = tf.keras.datasets.cifar10.load_data()\n",
    "y_train = np.squeeze(y_train)\n",
    "y_test = np.squeeze(y_test)\n",
    "\n",
    "x_train, y_train = shuffle(x_train, y_train)\n",
    "x_train, x_val, y_train, y_val = train_test_split(x_train, y_train,\n",
    "                                                  test_size=0.2,\n",
    "                                                  stratify=y_train,\n",
    "                                                  random_state=51)\n",
    "# cast samples and labels\n",
    "x_train = x_train.astype(np.float32) / 255.\n",
    "x_val = x_val.astype(np.float32) / 255.\n",
    "x_test = x_test.astype(np.float32) / 255.\n",
    "y_train = y_train.astype(np.int32)\n",
    "y_val = y_val.astype(np.int32)\n",
    "y_test = y_test.astype(np.int32)\n",
    "\n",
    "print(\"\\tTRAIN - images {} | {}  - labels {} - {}\".format(x_train.shape, x_train.dtype, y_train.shape, y_train.dtype))\n",
    "print(\"\\tVAL - images {} | {}  - labels {} - {}\".format(x_val.shape, x_val.dtype, y_val.shape, y_val.dtype))\n",
    "print(\"\\tTEST - images {} | {}  - labels {} - {}\\n\".format(x_test.shape, x_test.dtype, y_test.shape, y_test.dtype))"
   ]
  },
  {
   "cell_type": "code",
   "execution_count": 5,
   "metadata": {},
   "outputs": [],
   "source": [
    "generator_aug = tf.keras.preprocessing.image.ImageDataGenerator(width_shift_range=5,\n",
    "                                                                height_shift_range=5,\n",
    "                                                                fill_mode='constant',\n",
    "                                                                cval=0.0,\n",
    "                                                                rotation_range=90.,\n",
    "                                                                horizontal_flip=True,\n",
    "                                                                vertical_flip=True)\n",
    "\n",
    "generator = tf.keras.preprocessing.image.ImageDataGenerator()\n",
    "\n",
    "# python iterator object that yields augmented samples \n",
    "iterator_train_aug = generator_aug.flow(x_train, y_train, batch_size=BATCH_SIZE)\n",
    "\n",
    "# python iterators object that yields not augmented samples \n",
    "iterator_train = generator.flow(x_train, y_train, batch_size=BATCH_SIZE)\n",
    "iterator_valid = generator.flow(x_val, y_val, batch_size=BATCH_SIZE)\n",
    "iterator_test = generator.flow(x_test, y_test, batch_size=BATCH_SIZE)\n",
    "\n",
    "steps_per_epoch_train = int(ceil(iterator_train.n/BATCH_SIZE))\n",
    "steps_per_epoch_val = int(ceil(iterator_valid.n/BATCH_SIZE))\n",
    "steps_per_epoch_test = int(ceil(iterator_test.n/BATCH_SIZE))"
   ]
  },
  {
   "cell_type": "code",
   "execution_count": null,
   "metadata": {},
   "outputs": [
    {
     "name": "stdout",
     "output_type": "stream",
     "text": [
      "label : 1\n",
      "x : (16, 32, 32, 3) | float32\n",
      "y : (16,) | int32\n"
     ]
    },
    {
     "data": {
      "text/plain": [
       "<matplotlib.image.AxesImage at 0x7f66657944a8>"
      ]
     },
     "execution_count": 6,
     "metadata": {},
     "output_type": "execute_result"
    },
    {
     "data": {
      "image/png": "[encoded data removed]",
      "text/plain": [
       "<Figure size 432x432 with 1 Axes>"
      ]
     },
     "metadata": {
      "needs_background": "light"
     },
     "output_type": "display_data"
    }
   ],
   "source": [
    "# test iterator with data augmentation\n",
    "x, y = iterator_train_aug.next()\n",
    "\n",
    "i = 0 \n",
    "img = x[i]*255\n",
    "label = y[i]\n",
    "print(\"label : {}\".format(label))\n",
    "print(\"x : {} | {}\".format(x.shape, x.dtype))\n",
    "print(\"y : {} | {}\".format(y.shape, y.dtype))\n",
    "\n",
    "plt.figure(figsize=(6,6))\n",
    "plt.imshow(img.astype(np.uint8))"
   ]
  },
  {
   "cell_type": "markdown",
   "metadata": {},
   "source": [
    "Now data iterators are ready ! \n",
    "\n",
    "# Build a network with MovingFreeBatchNorm layers"
   ]
  },
  {
   "cell_type": "code",
   "execution_count": null,
   "metadata": {},
   "outputs": [],
   "source": [
    "from moving_free_batch_normalization import moving_free_batch_norm"
   ]
  },
  {
   "cell_type": "code",
   "execution_count": null,
   "metadata": {},
   "outputs": [],
   "source": [
    "# create a TensorFlow session\n",
    "config = tf.ConfigProto()\n",
    "config.allow_soft_placement = True\n",
    "config.gpu_options.allow_growth = True\n",
    "sess = tf.Session(config=config)"
   ]
  },
  {
   "cell_type": "code",
   "execution_count": null,
   "metadata": {},
   "outputs": [],
   "source": [
    "# inputs: only placeholders (easy to use) !\n",
    "\n",
    "with tf.name_scope('inputs'):\n",
    "    # to images\n",
    "    batch_x = tf.placeholder(shape=[None, 32, 32, 3], dtype=tf.float32)\n",
    "    \n",
    "    # to feed labels\n",
    "    batch_y = tf.placeholder(shape=[None, ], dtype=tf.int64)\n",
    "    \n",
    "    # placeholders to set the learning phase (train vs inference)\n",
    "    # this controls the behavior of BN layers \n",
    "    is_training_bn = tf.placeholder(shape=[], dtype=tf.bool)\n",
    "    \n",
    "    # select which statistics (mean, variance) to use in BN layers during inference \n",
    "    # when is_training_bn is False !\n",
    "    use_moving_statistics = tf.placeholder(shape=[], dtype=tf.bool)\n",
    "    \n",
    "    # placeholder for learning rate for learning scheduling \n",
    "    learning_rate = tf.placeholder(shape=[], dtype=tf.float32)"
   ]
  },
  {
   "cell_type": "code",
   "execution_count": null,
   "metadata": {},
   "outputs": [],
   "source": [
    "# network similar to a VGG11 \n",
    "\n",
    "with tf.name_scope('network'):\n",
    "    ######################### 32x32 features per feature maps #########################\n",
    "    x = tf.layers.conv2d(batch_x, filters=64, kernel_size=3, strides=1, use_bias=True,\n",
    "                         activation=tf.nn.relu, data_format='channels_last', padding='same')\n",
    "    x = moving_free_batch_norm(x, axis=-1, training=is_training_bn,\n",
    "                               use_moving_statistics=use_moving_statistics, momentum=0.99)\n",
    "    x = tf.layers.max_pooling2d(x, pool_size=2, strides=2, data_format='channels_last', padding='same')\n",
    "    ###################################################################################\n",
    "\n",
    "    \n",
    "    ######################### 16x16 features per feature maps #########################\n",
    "    x = tf.layers.conv2d(x, filters=128, kernel_size=3, strides=1, use_bias=True,\n",
    "                         activation=tf.nn.relu, data_format='channels_last', padding='same')\n",
    "    x = moving_free_batch_norm(x, axis=-1, training=is_training_bn,\n",
    "                               use_moving_statistics=use_moving_statistics, momentum=0.99)\n",
    "    x = tf.layers.max_pooling2d(x, pool_size=2, strides=2, data_format='channels_last', padding='same')\n",
    "    ###################################################################################\n",
    "    \n",
    "    ######################### 8x8 features per feature maps #########################\n",
    "    x = tf.layers.conv2d(x, filters=256, kernel_size=3, strides=1, use_bias=True,\n",
    "                         activation=tf.nn.relu, data_format='channels_last', padding='same')\n",
    "    x = moving_free_batch_norm(x, axis=-1, training=is_training_bn, use_moving_statistics=use_moving_statistics, momentum=0.99)\n",
    "    x = tf.layers.conv2d(x, filters=256, kernel_size=3, strides=1, use_bias=True,\n",
    "                         activation=tf.nn.relu, data_format='channels_last', padding='same')\n",
    "    x = moving_free_batch_norm(x, axis=-1, training=is_training_bn,\n",
    "                               use_moving_statistics=use_moving_statistics, momentum=0.99)\n",
    "    x = tf.layers.max_pooling2d(x, pool_size=2, strides=2, data_format='channels_last', padding='same')\n",
    "    ###################################################################################\n",
    "    \n",
    "    ######################### 4x4 features per feature maps #########################\n",
    "    x = tf.layers.conv2d(x, filters=512, kernel_size=3, strides=1, use_bias=True,\n",
    "                         activation=tf.nn.relu, data_format='channels_last', padding='same')\n",
    "    x = moving_free_batch_norm(x, axis=-1, training=is_training_bn, use_moving_statistics=use_moving_statistics, momentum=0.99)\n",
    "    x = tf.layers.conv2d(x, filters=512, kernel_size=3, strides=1, use_bias=True,\n",
    "                         activation=tf.nn.relu, data_format='channels_last', padding='same')\n",
    "    x = moving_free_batch_norm(x, axis=-1, training=is_training_bn,\n",
    "                               use_moving_statistics=use_moving_statistics, momentum=0.99)\n",
    "    x = tf.layers.max_pooling2d(x, pool_size=2, strides=2, data_format='channels_last', padding='same')\n",
    "    ###################################################################################\n",
    "    \n",
    "    ######################### 2x2 features per feature maps #########################\n",
    "    x = tf.layers.conv2d(x, filters=512, kernel_size=3, strides=1, use_bias=True,\n",
    "                         activation=tf.nn.relu, data_format='channels_last', padding='same')\n",
    "    x = moving_free_batch_norm(x, axis=-1, training=is_training_bn, use_moving_statistics=use_moving_statistics, momentum=0.99)\n",
    "    x = tf.layers.conv2d(x, filters=512, kernel_size=3, strides=1, use_bias=True,\n",
    "                         activation=tf.nn.relu, data_format='channels_last', padding='same')\n",
    "    x = moving_free_batch_norm(x, axis=-1, training=is_training_bn,\n",
    "                               use_moving_statistics=use_moving_statistics, momentum=0.99)\n",
    "    ###################################################################################\n",
    "    \n",
    "    ######################### Global Average Pooling #########################\n",
    "    x = tf.reduce_mean(x, axis=[1, 2]) \n",
    "    logits = tf.layers.dense(x, units=10, use_bias=True)\n",
    "    ###################################################################################"
   ]
  },
  {
   "cell_type": "code",
   "execution_count": null,
   "metadata": {},
   "outputs": [
    {
     "name": "stdout",
     "output_type": "stream",
     "text": [
      "[<tf.Variable 'conv2d/kernel:0' shape=(3, 3, 3, 64) dtype=float32_ref>,\n",
      " <tf.Variable 'conv2d/bias:0' shape=(64,) dtype=float32_ref>,\n",
      " <tf.Variable 'moving_free_batch_normalization/gamma:0' shape=(64,) dtype=float32_ref>,\n",
      " <tf.Variable 'moving_free_batch_normalization/beta:0' shape=(64,) dtype=float32_ref>,\n",
      " <tf.Variable 'conv2d_1/kernel:0' shape=(3, 3, 64, 128) dtype=float32_ref>,\n",
      " <tf.Variable 'conv2d_1/bias:0' shape=(128,) dtype=float32_ref>,\n",
      " <tf.Variable 'moving_free_batch_normalization_1/gamma:0' shape=(128,) dtype=float32_ref>,\n",
      " <tf.Variable 'moving_free_batch_normalization_1/beta:0' shape=(128,) dtype=float32_ref>,\n",
      " <tf.Variable 'conv2d_2/kernel:0' shape=(3, 3, 128, 256) dtype=float32_ref>,\n",
      " <tf.Variable 'conv2d_2/bias:0' shape=(256,) dtype=float32_ref>,\n",
      " <tf.Variable 'moving_free_batch_normalization_2/gamma:0' shape=(256,) dtype=float32_ref>,\n",
      " <tf.Variable 'moving_free_batch_normalization_2/beta:0' shape=(256,) dtype=float32_ref>,\n",
      " <tf.Variable 'conv2d_3/kernel:0' shape=(3, 3, 256, 256) dtype=float32_ref>,\n",
      " <tf.Variable 'conv2d_3/bias:0' shape=(256,) dtype=float32_ref>,\n",
      " <tf.Variable 'moving_free_batch_normalization_3/gamma:0' shape=(256,) dtype=float32_ref>,\n",
      " <tf.Variable 'moving_free_batch_normalization_3/beta:0' shape=(256,) dtype=float32_ref>,\n",
      " <tf.Variable 'conv2d_4/kernel:0' shape=(3, 3, 256, 512) dtype=float32_ref>,\n",
      " <tf.Variable 'conv2d_4/bias:0' shape=(512,) dtype=float32_ref>,\n",
      " <tf.Variable 'moving_free_batch_normalization_4/gamma:0' shape=(512,) dtype=float32_ref>,\n",
      " <tf.Variable 'moving_free_batch_normalization_4/beta:0' shape=(512,) dtype=float32_ref>,\n",
      " <tf.Variable 'conv2d_5/kernel:0' shape=(3, 3, 512, 512) dtype=float32_ref>,\n",
      " <tf.Variable 'conv2d_5/bias:0' shape=(512,) dtype=float32_ref>,\n",
      " <tf.Variable 'moving_free_batch_normalization_5/gamma:0' shape=(512,) dtype=float32_ref>,\n",
      " <tf.Variable 'moving_free_batch_normalization_5/beta:0' shape=(512,) dtype=float32_ref>,\n",
      " <tf.Variable 'conv2d_6/kernel:0' shape=(3, 3, 512, 512) dtype=float32_ref>,\n",
      " <tf.Variable 'conv2d_6/bias:0' shape=(512,) dtype=float32_ref>,\n",
      " <tf.Variable 'moving_free_batch_normalization_6/gamma:0' shape=(512,) dtype=float32_ref>,\n",
      " <tf.Variable 'moving_free_batch_normalization_6/beta:0' shape=(512,) dtype=float32_ref>,\n",
      " <tf.Variable 'conv2d_7/kernel:0' shape=(3, 3, 512, 512) dtype=float32_ref>,\n",
      " <tf.Variable 'conv2d_7/bias:0' shape=(512,) dtype=float32_ref>,\n",
      " <tf.Variable 'moving_free_batch_normalization_7/gamma:0' shape=(512,) dtype=float32_ref>,\n",
      " <tf.Variable 'moving_free_batch_normalization_7/beta:0' shape=(512,) dtype=float32_ref>,\n",
      " <tf.Variable 'dense/kernel:0' shape=(512, 10) dtype=float32_ref>,\n",
      " <tf.Variable 'dense/bias:0' shape=(10,) dtype=float32_ref>]\n"
     ]
    }
   ],
   "source": [
    "model_vars = tf.trainable_variables()\n",
    "pprint(model_vars)"
   ]
  },
  {
   "cell_type": "code",
   "execution_count": null,
   "metadata": {},
   "outputs": [
    {
     "name": "stdout",
     "output_type": "stream",
     "text": [
      "[<tf.Operation 'network/moving_free_batch_normalization/AssignMovingAvg' type=AssignSub>,\n",
      " <tf.Operation 'network/moving_free_batch_normalization/AssignMovingAvg_1' type=AssignSub>,\n",
      " <tf.Operation 'network/moving_free_batch_normalization_1/AssignMovingAvg' type=AssignSub>,\n",
      " <tf.Operation 'network/moving_free_batch_normalization_1/AssignMovingAvg_1' type=AssignSub>,\n",
      " <tf.Operation 'network/moving_free_batch_normalization_2/AssignMovingAvg' type=AssignSub>,\n",
      " <tf.Operation 'network/moving_free_batch_normalization_2/AssignMovingAvg_1' type=AssignSub>,\n",
      " <tf.Operation 'network/moving_free_batch_normalization_3/AssignMovingAvg' type=AssignSub>,\n",
      " <tf.Operation 'network/moving_free_batch_normalization_3/AssignMovingAvg_1' type=AssignSub>,\n",
      " <tf.Operation 'network/moving_free_batch_normalization_4/AssignMovingAvg' type=AssignSub>,\n",
      " <tf.Operation 'network/moving_free_batch_normalization_4/AssignMovingAvg_1' type=AssignSub>,\n",
      " <tf.Operation 'network/moving_free_batch_normalization_5/AssignMovingAvg' type=AssignSub>,\n",
      " <tf.Operation 'network/moving_free_batch_normalization_5/AssignMovingAvg_1' type=AssignSub>,\n",
      " <tf.Operation 'network/moving_free_batch_normalization_6/AssignMovingAvg' type=AssignSub>,\n",
      " <tf.Operation 'network/moving_free_batch_normalization_6/AssignMovingAvg_1' type=AssignSub>,\n",
      " <tf.Operation 'network/moving_free_batch_normalization_7/AssignMovingAvg' type=AssignSub>,\n",
      " <tf.Operation 'network/moving_free_batch_normalization_7/AssignMovingAvg_1' type=AssignSub>]\n",
      "[<tf.Tensor 'network/moving_free_batch_normalization/AssignAdd:0' shape=() dtype=float32_ref>,\n",
      " <tf.Tensor 'network/moving_free_batch_normalization_1/AssignAdd:0' shape=() dtype=float32_ref>,\n",
      " <tf.Tensor 'network/moving_free_batch_normalization_2/AssignAdd:0' shape=() dtype=float32_ref>,\n",
      " <tf.Tensor 'network/moving_free_batch_normalization_3/AssignAdd:0' shape=() dtype=float32_ref>,\n",
      " <tf.Tensor 'network/moving_free_batch_normalization_4/AssignAdd:0' shape=() dtype=float32_ref>,\n",
      " <tf.Tensor 'network/moving_free_batch_normalization_5/AssignAdd:0' shape=() dtype=float32_ref>,\n",
      " <tf.Tensor 'network/moving_free_batch_normalization_6/AssignAdd:0' shape=() dtype=float32_ref>,\n",
      " <tf.Tensor 'network/moving_free_batch_normalization_7/AssignAdd:0' shape=() dtype=float32_ref>]\n",
      "[<tf.Operation 'network/moving_free_batch_normalization/ResetBatchNormStats' type=NoOp>,\n",
      " <tf.Operation 'network/moving_free_batch_normalization_1/ResetBatchNormStats' type=NoOp>,\n",
      " <tf.Operation 'network/moving_free_batch_normalization_2/ResetBatchNormStats' type=NoOp>,\n",
      " <tf.Operation 'network/moving_free_batch_normalization_3/ResetBatchNormStats' type=NoOp>,\n",
      " <tf.Operation 'network/moving_free_batch_normalization_4/ResetBatchNormStats' type=NoOp>,\n",
      " <tf.Operation 'network/moving_free_batch_normalization_5/ResetBatchNormStats' type=NoOp>,\n",
      " <tf.Operation 'network/moving_free_batch_normalization_6/ResetBatchNormStats' type=NoOp>,\n",
      " <tf.Operation 'network/moving_free_batch_normalization_7/ResetBatchNormStats' type=NoOp>]\n"
     ]
    }
   ],
   "source": [
    "# operations to update moving averages in batch norm layers\n",
    "# to run before updating weights ! (with tf.control_dependencies())\n",
    "update_ops = tf.get_collection(tf.GraphKeys.UPDATE_OPS)\n",
    "\n",
    "# these operations are new, specific to MovingFreeBatchNorm layers.\n",
    "# operations to updates (mean, variance, n) in batch norm layers \n",
    "update_bn_ops = tf.get_collection('UPDATE_BN_OPS')\n",
    "# operations to reset (mean, variance, n) to zero \n",
    "reset_bn_ops = tf.get_collection('RESET_BN_OPS')\n",
    "\n",
    "pprint(update_ops)\n",
    "pprint(update_bn_ops)\n",
    "pprint(reset_bn_ops)\n",
    "\n",
    "# group these operations\n",
    "update_ops = tf.group(*update_ops)\n",
    "update_bn_ops = tf.group(*update_bn_ops)\n",
    "reset_bn_ops = tf.group(*reset_bn_ops)"
   ]
  },
  {
   "cell_type": "code",
   "execution_count": null,
   "metadata": {},
   "outputs": [],
   "source": [
    "# add loss and accuracy \n",
    "with tf.name_scope('loss'):\n",
    "    loss_tf = tf.reduce_mean(tf.nn.sparse_softmax_cross_entropy_with_logits(logits=logits,\n",
    "                                                                            labels=batch_y))\n",
    "    acc_tf = tf.reduce_mean(tf.cast(tf.equal(batch_y, tf.argmax(logits, axis=1)), dtype=tf.float32))"
   ]
  },
  {
   "cell_type": "code",
   "execution_count": null,
   "metadata": {},
   "outputs": [],
   "source": [
    "# optimization with SGD x Momentum\n",
    "with tf.name_scope('optimizer'):\n",
    "    opt = tf.train.MomentumOptimizer(learning_rate=learning_rate, momentum=0.9)\n",
    "    \n",
    "    # even with MovingFreeBatchNorm we can update the moving statistics\n",
    "    with tf.control_dependencies([update_ops,]):\n",
    "        train_op = opt.minimize(loss_tf, var_list=model_vars)"
   ]
  },
  {
   "cell_type": "code",
   "execution_count": null,
   "metadata": {},
   "outputs": [],
   "source": [
    "# initialize all parameters \n",
    "global_init_op = tf.global_variables_initializer()\n",
    "sess.run(global_init_op)"
   ]
  },
  {
   "cell_type": "markdown",
   "metadata": {},
   "source": [
    "# Launch training "
   ]
  },
  {
   "cell_type": "code",
   "execution_count": null,
   "metadata": {},
   "outputs": [],
   "source": [
    "# constant learning rate\n",
    "def get_learning_rate(step, epoch, steps_per_epoch_train):\n",
    "    return INIT_LR"
   ]
  },
  {
   "cell_type": "markdown",
   "metadata": {},
   "source": [
    "## Launch traninig \n",
    "- create a function to fit statistics with train subset\n",
    "- create a function to run inference on [train/]val/test subsets (with/without moving statistics)"
   ]
  },
  {
   "cell_type": "code",
   "execution_count": null,
   "metadata": {},
   "outputs": [],
   "source": [
    "def fit_bn_statistics():\n",
    "    # reset new BN statistics\n",
    "    sess.run(reset_bn_ops)\n",
    "    \n",
    "    # when updating, set is_training_bn=True\n",
    "    feed_dict = {is_training_bn: True, use_moving_statistics: True}\n",
    "    for _ in range(steps_per_epoch_train):\n",
    "        # use sample from the train set, without data augmentation\n",
    "        x, y = iterator_train.next()\n",
    "        feed_dict[batch_x] = x\n",
    "        sess.run(update_bn_ops, feed_dict=feed_dict)"
   ]
  },
  {
   "cell_type": "code",
   "execution_count": null,
   "metadata": {},
   "outputs": [],
   "source": [
    "def inference(iterator, with_moving_statistics=True):\n",
    "    \n",
    "    feed_dict = {is_training_bn: False,\n",
    "                 use_moving_statistics: with_moving_statistics}\n",
    "    \n",
    "    all_acc = []\n",
    "    all_loss = []\n",
    "    nb_steps = int(ceil(iterator.n/BATCH_SIZE))\n",
    "    \n",
    "    for _ in range(nb_steps):\n",
    "        x, y = iterator.next()\n",
    "        feed_dict[batch_x] = x\n",
    "        feed_dict[batch_y] = y\n",
    "        acc_v, loss_v = sess.run([acc_tf, loss_tf], feed_dict=feed_dict)\n",
    "        all_acc.append(acc_v)\n",
    "        all_loss.append(loss_v)\n",
    "    \n",
    "    return np.mean(all_acc), np.mean(all_loss)"
   ]
  },
  {
   "cell_type": "code",
   "execution_count": null,
   "metadata": {},
   "outputs": [],
   "source": [
    "%%time\n",
    "# test your random model ? \n",
    "acc, loss = inference(iterator_valid, with_moving_statistics=True)\n",
    "print(\"Random model : acc={:.5f}   loss={:.5f}\".format(acc, loss))"
   ]
  },
  {
   "cell_type": "code",
   "execution_count": null,
   "metadata": {},
   "outputs": [],
   "source": [
    "%%time \n",
    "# now fit batch norm statistics and make inference again \n",
    "fit_bn_statistics()\n",
    "acc, loss = inference(iterator_valid, with_moving_statistics=False)\n",
    "print(\"Random model : acc={:.5f}   loss={:.5f}\".format(acc, loss))"
   ]
  },
  {
   "cell_type": "code",
   "execution_count": null,
   "metadata": {},
   "outputs": [],
   "source": [
    "%%time\n",
    "\n",
    "step = 0\n",
    "start = time()\n",
    "\n",
    "acc_train = []\n",
    "loss_train = []\n",
    "\n",
    "acc_val = []\n",
    "loss_val = []\n",
    "\n",
    "acc_val_bn = []\n",
    "loss_val_bn = []\n",
    "\n",
    "feed_dict_train = {is_training_bn: True, \n",
    "                   use_moving_statistics:True,}\n",
    "\n",
    "for epoch in range(EPOCHS):\n",
    "    \n",
    "    acc = []\n",
    "    loss = []\n",
    "    for _ in range(steps_per_epoch_train):\n",
    "        \n",
    "        # get samples from the train set, with data augmentation \n",
    "        x, y =  iterator_train_aug.next()\n",
    "        feed_dict_train[batch_x] = x\n",
    "        feed_dict_train[batch_y] = y\n",
    "        feed_dict_train[learning_rate] = get_learning_rate(step, epoch, steps_per_epoch_train)\n",
    "        \n",
    "        acc_v, loss_v, _ = sess.run([acc_tf, loss_tf, train_op], feed_dict=feed_dict_train)\n",
    "        acc.append(acc_v)\n",
    "        loss.append(loss_v)\n",
    "        step += 1\n",
    "        \n",
    "    acc = np.mean(acc)\n",
    "    loss = np.mean(loss)\n",
    "    acc_train.append((epoch,acc))\n",
    "    loss_train.append((epoch,loss))\n",
    "    print(\"TRAIN @ EPOCH {} : acc={:.5f}  loss={:.5f}  in {:.3f} s\".format(epoch, acc, loss,\n",
    "                                                                               time()-start))\n",
    "    \n",
    "    acc, loss = inference(iterator_valid, with_moving_statistics=True)\n",
    "    acc_val.append((epoch,acc))\n",
    "    loss_val.append((epoch,loss))\n",
    "    print(\"VALID @ EPOCH {} : acc={:.5f}   loss={:.5f}  in {:.3f} s\".format(epoch, acc, loss,\n",
    "                                                                            time()-start))\n",
    "\n",
    "    # now fit batch norm statistics and make inference again \n",
    "    fit_bn_statistics()\n",
    "    acc, loss = inference(iterator_valid, with_moving_statistics=False)\n",
    "    acc_val_bn.append((epoch,acc))\n",
    "    loss_val_bn.append((epoch,loss))\n",
    "    print(\"VALID updated BN @ EPOCH {} : acc={:.5f}   loss={:.5f}  in {:.3f} s\".format(epoch, acc,\n",
    "                                                                                       loss, time()-start))\n"
   ]
  },
  {
   "cell_type": "code",
   "execution_count": null,
   "metadata": {},
   "outputs": [],
   "source": []
  }
 ],
 "metadata": {
  "kernelspec": {
   "display_name": "Python 3",
   "language": "python",
   "name": "python3"
  },
  "language_info": {
   "codemirror_mode": {
    "name": "ipython",
    "version": 3
   },
   "file_extension": ".py",
   "mimetype": "text/x-python",
   "name": "python",
   "nbconvert_exporter": "python",
   "pygments_lexer": "ipython3",
   "version": "3.5.6"
  }
 },
 "nbformat": 4,
 "nbformat_minor": 2
}
